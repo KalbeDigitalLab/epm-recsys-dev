{
 "cells": [
  {
   "cell_type": "code",
   "execution_count": 1,
   "metadata": {},
   "outputs": [],
   "source": [
    "import pandas as pd"
   ]
  },
  {
   "cell_type": "code",
   "execution_count": 2,
   "metadata": {},
   "outputs": [
    {
     "data": {
      "text/html": [
       "<div>\n",
       "<style scoped>\n",
       "    .dataframe tbody tr th:only-of-type {\n",
       "        vertical-align: middle;\n",
       "    }\n",
       "\n",
       "    .dataframe tbody tr th {\n",
       "        vertical-align: top;\n",
       "    }\n",
       "\n",
       "    .dataframe thead th {\n",
       "        text-align: right;\n",
       "    }\n",
       "</style>\n",
       "<table border=\"1\" class=\"dataframe\">\n",
       "  <thead>\n",
       "    <tr style=\"text-align: right;\">\n",
       "      <th></th>\n",
       "      <th>Unnamed: 0</th>\n",
       "      <th>ship_to_id_emos</th>\n",
       "      <th>prod_id</th>\n",
       "      <th>final_rating</th>\n",
       "    </tr>\n",
       "  </thead>\n",
       "  <tbody>\n",
       "    <tr>\n",
       "      <th>0</th>\n",
       "      <td>0</td>\n",
       "      <td>1338031</td>\n",
       "      <td>14746</td>\n",
       "      <td>1</td>\n",
       "    </tr>\n",
       "    <tr>\n",
       "      <th>1</th>\n",
       "      <td>1</td>\n",
       "      <td>1398033</td>\n",
       "      <td>14746</td>\n",
       "      <td>2</td>\n",
       "    </tr>\n",
       "    <tr>\n",
       "      <th>2</th>\n",
       "      <td>2</td>\n",
       "      <td>1518298</td>\n",
       "      <td>14746</td>\n",
       "      <td>1</td>\n",
       "    </tr>\n",
       "    <tr>\n",
       "      <th>3</th>\n",
       "      <td>3</td>\n",
       "      <td>1615951</td>\n",
       "      <td>14746</td>\n",
       "      <td>1</td>\n",
       "    </tr>\n",
       "    <tr>\n",
       "      <th>4</th>\n",
       "      <td>4</td>\n",
       "      <td>2385972</td>\n",
       "      <td>14746</td>\n",
       "      <td>2</td>\n",
       "    </tr>\n",
       "  </tbody>\n",
       "</table>\n",
       "</div>"
      ],
      "text/plain": [
       "   Unnamed: 0  ship_to_id_emos  prod_id  final_rating\n",
       "0           0          1338031    14746             1\n",
       "1           1          1398033    14746             2\n",
       "2           2          1518298    14746             1\n",
       "3           3          1615951    14746             1\n",
       "4           4          2385972    14746             2"
      ]
     },
     "execution_count": 2,
     "metadata": {},
     "output_type": "execute_result"
    }
   ],
   "source": [
    "df = pd.read_csv(\"data/rating-2023_new.csv\")\n",
    "df.head()"
   ]
  },
  {
   "cell_type": "code",
   "execution_count": 4,
   "metadata": {},
   "outputs": [],
   "source": [
    "df = df.drop('Unnamed: 0', axis=1)"
   ]
  },
  {
   "cell_type": "code",
   "execution_count": 5,
   "metadata": {},
   "outputs": [
    {
     "data": {
      "text/html": [
       "<div>\n",
       "<style scoped>\n",
       "    .dataframe tbody tr th:only-of-type {\n",
       "        vertical-align: middle;\n",
       "    }\n",
       "\n",
       "    .dataframe tbody tr th {\n",
       "        vertical-align: top;\n",
       "    }\n",
       "\n",
       "    .dataframe thead th {\n",
       "        text-align: right;\n",
       "    }\n",
       "</style>\n",
       "<table border=\"1\" class=\"dataframe\">\n",
       "  <thead>\n",
       "    <tr style=\"text-align: right;\">\n",
       "      <th></th>\n",
       "      <th>ship_to_id_emos</th>\n",
       "      <th>prod_id</th>\n",
       "      <th>final_rating</th>\n",
       "    </tr>\n",
       "  </thead>\n",
       "  <tbody>\n",
       "    <tr>\n",
       "      <th>0</th>\n",
       "      <td>1338031</td>\n",
       "      <td>14746</td>\n",
       "      <td>1</td>\n",
       "    </tr>\n",
       "    <tr>\n",
       "      <th>1</th>\n",
       "      <td>1398033</td>\n",
       "      <td>14746</td>\n",
       "      <td>2</td>\n",
       "    </tr>\n",
       "    <tr>\n",
       "      <th>2</th>\n",
       "      <td>1518298</td>\n",
       "      <td>14746</td>\n",
       "      <td>1</td>\n",
       "    </tr>\n",
       "    <tr>\n",
       "      <th>3</th>\n",
       "      <td>1615951</td>\n",
       "      <td>14746</td>\n",
       "      <td>1</td>\n",
       "    </tr>\n",
       "    <tr>\n",
       "      <th>4</th>\n",
       "      <td>2385972</td>\n",
       "      <td>14746</td>\n",
       "      <td>2</td>\n",
       "    </tr>\n",
       "  </tbody>\n",
       "</table>\n",
       "</div>"
      ],
      "text/plain": [
       "   ship_to_id_emos  prod_id  final_rating\n",
       "0          1338031    14746             1\n",
       "1          1398033    14746             2\n",
       "2          1518298    14746             1\n",
       "3          1615951    14746             1\n",
       "4          2385972    14746             2"
      ]
     },
     "execution_count": 5,
     "metadata": {},
     "output_type": "execute_result"
    }
   ],
   "source": [
    "df.head()"
   ]
  },
  {
   "cell_type": "code",
   "execution_count": 6,
   "metadata": {},
   "outputs": [
    {
     "data": {
      "text/html": [
       "<div>\n",
       "<style scoped>\n",
       "    .dataframe tbody tr th:only-of-type {\n",
       "        vertical-align: middle;\n",
       "    }\n",
       "\n",
       "    .dataframe tbody tr th {\n",
       "        vertical-align: top;\n",
       "    }\n",
       "\n",
       "    .dataframe thead th {\n",
       "        text-align: right;\n",
       "    }\n",
       "</style>\n",
       "<table border=\"1\" class=\"dataframe\">\n",
       "  <thead>\n",
       "    <tr style=\"text-align: right;\">\n",
       "      <th></th>\n",
       "      <th>ship_to_id_emos</th>\n",
       "      <th>prod_id</th>\n",
       "      <th>final_rating</th>\n",
       "      <th>timestamp</th>\n",
       "    </tr>\n",
       "  </thead>\n",
       "  <tbody>\n",
       "    <tr>\n",
       "      <th>0</th>\n",
       "      <td>1338031</td>\n",
       "      <td>14746</td>\n",
       "      <td>1</td>\n",
       "      <td>2023-12-11 16:42:51.266081</td>\n",
       "    </tr>\n",
       "    <tr>\n",
       "      <th>1</th>\n",
       "      <td>1398033</td>\n",
       "      <td>14746</td>\n",
       "      <td>2</td>\n",
       "      <td>2023-12-11 16:42:51.266081</td>\n",
       "    </tr>\n",
       "    <tr>\n",
       "      <th>2</th>\n",
       "      <td>1518298</td>\n",
       "      <td>14746</td>\n",
       "      <td>1</td>\n",
       "      <td>2023-12-11 16:42:51.266081</td>\n",
       "    </tr>\n",
       "    <tr>\n",
       "      <th>3</th>\n",
       "      <td>1615951</td>\n",
       "      <td>14746</td>\n",
       "      <td>1</td>\n",
       "      <td>2023-12-11 16:42:51.266081</td>\n",
       "    </tr>\n",
       "    <tr>\n",
       "      <th>4</th>\n",
       "      <td>2385972</td>\n",
       "      <td>14746</td>\n",
       "      <td>2</td>\n",
       "      <td>2023-12-11 16:42:51.266081</td>\n",
       "    </tr>\n",
       "  </tbody>\n",
       "</table>\n",
       "</div>"
      ],
      "text/plain": [
       "   ship_to_id_emos  prod_id  final_rating                  timestamp\n",
       "0          1338031    14746             1 2023-12-11 16:42:51.266081\n",
       "1          1398033    14746             2 2023-12-11 16:42:51.266081\n",
       "2          1518298    14746             1 2023-12-11 16:42:51.266081\n",
       "3          1615951    14746             1 2023-12-11 16:42:51.266081\n",
       "4          2385972    14746             2 2023-12-11 16:42:51.266081"
      ]
     },
     "execution_count": 6,
     "metadata": {},
     "output_type": "execute_result"
    }
   ],
   "source": [
    "from datetime import datetime\n",
    "\n",
    "df['timestamp'] = pd.to_datetime(datetime.now())\n",
    "df.head()"
   ]
  },
  {
   "cell_type": "code",
   "execution_count": 7,
   "metadata": {},
   "outputs": [
    {
     "data": {
      "text/html": [
       "<div>\n",
       "<style scoped>\n",
       "    .dataframe tbody tr th:only-of-type {\n",
       "        vertical-align: middle;\n",
       "    }\n",
       "\n",
       "    .dataframe tbody tr th {\n",
       "        vertical-align: top;\n",
       "    }\n",
       "\n",
       "    .dataframe thead th {\n",
       "        text-align: right;\n",
       "    }\n",
       "</style>\n",
       "<table border=\"1\" class=\"dataframe\">\n",
       "  <thead>\n",
       "    <tr style=\"text-align: right;\">\n",
       "      <th></th>\n",
       "      <th>ship_to_id_emos</th>\n",
       "      <th>prod_id</th>\n",
       "      <th>final_rating</th>\n",
       "      <th>timestamp</th>\n",
       "    </tr>\n",
       "  </thead>\n",
       "  <tbody>\n",
       "    <tr>\n",
       "      <th>3720047</th>\n",
       "      <td>636506</td>\n",
       "      <td>10917</td>\n",
       "      <td>1</td>\n",
       "      <td>2023-12-11 16:42:51.266081</td>\n",
       "    </tr>\n",
       "    <tr>\n",
       "      <th>3720048</th>\n",
       "      <td>648976</td>\n",
       "      <td>10917</td>\n",
       "      <td>1</td>\n",
       "      <td>2023-12-11 16:42:51.266081</td>\n",
       "    </tr>\n",
       "    <tr>\n",
       "      <th>3720049</th>\n",
       "      <td>648977</td>\n",
       "      <td>10917</td>\n",
       "      <td>4</td>\n",
       "      <td>2023-12-11 16:42:51.266081</td>\n",
       "    </tr>\n",
       "    <tr>\n",
       "      <th>3720050</th>\n",
       "      <td>649194</td>\n",
       "      <td>10917</td>\n",
       "      <td>2</td>\n",
       "      <td>2023-12-11 16:42:51.266081</td>\n",
       "    </tr>\n",
       "    <tr>\n",
       "      <th>3720051</th>\n",
       "      <td>649226</td>\n",
       "      <td>10917</td>\n",
       "      <td>1</td>\n",
       "      <td>2023-12-11 16:42:51.266081</td>\n",
       "    </tr>\n",
       "    <tr>\n",
       "      <th>...</th>\n",
       "      <td>...</td>\n",
       "      <td>...</td>\n",
       "      <td>...</td>\n",
       "      <td>...</td>\n",
       "    </tr>\n",
       "    <tr>\n",
       "      <th>3720142</th>\n",
       "      <td>1814429</td>\n",
       "      <td>13003</td>\n",
       "      <td>1</td>\n",
       "      <td>2023-12-11 16:42:51.266081</td>\n",
       "    </tr>\n",
       "    <tr>\n",
       "      <th>3720143</th>\n",
       "      <td>3101224</td>\n",
       "      <td>13003</td>\n",
       "      <td>3</td>\n",
       "      <td>2023-12-11 16:42:51.266081</td>\n",
       "    </tr>\n",
       "    <tr>\n",
       "      <th>3720144</th>\n",
       "      <td>3254591</td>\n",
       "      <td>13003</td>\n",
       "      <td>2</td>\n",
       "      <td>2023-12-11 16:42:51.266081</td>\n",
       "    </tr>\n",
       "    <tr>\n",
       "      <th>3720145</th>\n",
       "      <td>3685523</td>\n",
       "      <td>13003</td>\n",
       "      <td>2</td>\n",
       "      <td>2023-12-11 16:42:51.266081</td>\n",
       "    </tr>\n",
       "    <tr>\n",
       "      <th>3720146</th>\n",
       "      <td>4399363</td>\n",
       "      <td>13003</td>\n",
       "      <td>2</td>\n",
       "      <td>2023-12-11 16:42:51.266081</td>\n",
       "    </tr>\n",
       "  </tbody>\n",
       "</table>\n",
       "<p>100 rows × 4 columns</p>\n",
       "</div>"
      ],
      "text/plain": [
       "         ship_to_id_emos  prod_id  final_rating                  timestamp\n",
       "3720047           636506    10917             1 2023-12-11 16:42:51.266081\n",
       "3720048           648976    10917             1 2023-12-11 16:42:51.266081\n",
       "3720049           648977    10917             4 2023-12-11 16:42:51.266081\n",
       "3720050           649194    10917             2 2023-12-11 16:42:51.266081\n",
       "3720051           649226    10917             1 2023-12-11 16:42:51.266081\n",
       "...                  ...      ...           ...                        ...\n",
       "3720142          1814429    13003             1 2023-12-11 16:42:51.266081\n",
       "3720143          3101224    13003             3 2023-12-11 16:42:51.266081\n",
       "3720144          3254591    13003             2 2023-12-11 16:42:51.266081\n",
       "3720145          3685523    13003             2 2023-12-11 16:42:51.266081\n",
       "3720146          4399363    13003             2 2023-12-11 16:42:51.266081\n",
       "\n",
       "[100 rows x 4 columns]"
      ]
     },
     "execution_count": 7,
     "metadata": {},
     "output_type": "execute_result"
    }
   ],
   "source": [
    "df.tail(100)"
   ]
  },
  {
   "cell_type": "code",
   "execution_count": 11,
   "metadata": {},
   "outputs": [],
   "source": [
    "new_column_names = {\n",
    "    'ship_to_id_emos': 'user_id:token',\n",
    "    'prod_id': 'item_id:token',\n",
    "    'final_rating': 'rating:float',\n",
    "    'timestamp': 'timestamp:float',\n",
    "}\n",
    "\n",
    "# Renaming the columns\n",
    "df.rename(columns=new_column_names, inplace=True)"
   ]
  },
  {
   "cell_type": "code",
   "execution_count": 12,
   "metadata": {},
   "outputs": [
    {
     "data": {
      "text/html": [
       "<div>\n",
       "<style scoped>\n",
       "    .dataframe tbody tr th:only-of-type {\n",
       "        vertical-align: middle;\n",
       "    }\n",
       "\n",
       "    .dataframe tbody tr th {\n",
       "        vertical-align: top;\n",
       "    }\n",
       "\n",
       "    .dataframe thead th {\n",
       "        text-align: right;\n",
       "    }\n",
       "</style>\n",
       "<table border=\"1\" class=\"dataframe\">\n",
       "  <thead>\n",
       "    <tr style=\"text-align: right;\">\n",
       "      <th></th>\n",
       "      <th>user_id:token</th>\n",
       "      <th>item_id:token</th>\n",
       "      <th>rating:float</th>\n",
       "      <th>timestamp:float</th>\n",
       "    </tr>\n",
       "  </thead>\n",
       "  <tbody>\n",
       "    <tr>\n",
       "      <th>0</th>\n",
       "      <td>1338031</td>\n",
       "      <td>14746</td>\n",
       "      <td>1</td>\n",
       "      <td>2023-12-11 16:42:51.266081</td>\n",
       "    </tr>\n",
       "    <tr>\n",
       "      <th>1</th>\n",
       "      <td>1398033</td>\n",
       "      <td>14746</td>\n",
       "      <td>2</td>\n",
       "      <td>2023-12-11 16:42:51.266081</td>\n",
       "    </tr>\n",
       "    <tr>\n",
       "      <th>2</th>\n",
       "      <td>1518298</td>\n",
       "      <td>14746</td>\n",
       "      <td>1</td>\n",
       "      <td>2023-12-11 16:42:51.266081</td>\n",
       "    </tr>\n",
       "    <tr>\n",
       "      <th>3</th>\n",
       "      <td>1615951</td>\n",
       "      <td>14746</td>\n",
       "      <td>1</td>\n",
       "      <td>2023-12-11 16:42:51.266081</td>\n",
       "    </tr>\n",
       "    <tr>\n",
       "      <th>4</th>\n",
       "      <td>2385972</td>\n",
       "      <td>14746</td>\n",
       "      <td>2</td>\n",
       "      <td>2023-12-11 16:42:51.266081</td>\n",
       "    </tr>\n",
       "  </tbody>\n",
       "</table>\n",
       "</div>"
      ],
      "text/plain": [
       "   user_id:token  item_id:token  rating:float            timestamp:float\n",
       "0        1338031          14746             1 2023-12-11 16:42:51.266081\n",
       "1        1398033          14746             2 2023-12-11 16:42:51.266081\n",
       "2        1518298          14746             1 2023-12-11 16:42:51.266081\n",
       "3        1615951          14746             1 2023-12-11 16:42:51.266081\n",
       "4        2385972          14746             2 2023-12-11 16:42:51.266081"
      ]
     },
     "execution_count": 12,
     "metadata": {},
     "output_type": "execute_result"
    }
   ],
   "source": [
    "df.head()"
   ]
  },
  {
   "cell_type": "code",
   "execution_count": 13,
   "metadata": {},
   "outputs": [
    {
     "data": {
      "text/html": [
       "<div>\n",
       "<style scoped>\n",
       "    .dataframe tbody tr th:only-of-type {\n",
       "        vertical-align: middle;\n",
       "    }\n",
       "\n",
       "    .dataframe tbody tr th {\n",
       "        vertical-align: top;\n",
       "    }\n",
       "\n",
       "    .dataframe thead th {\n",
       "        text-align: right;\n",
       "    }\n",
       "</style>\n",
       "<table border=\"1\" class=\"dataframe\">\n",
       "  <thead>\n",
       "    <tr style=\"text-align: right;\">\n",
       "      <th></th>\n",
       "      <th>user_id:token</th>\n",
       "      <th>item_id:token</th>\n",
       "      <th>rating:float</th>\n",
       "      <th>timestamp:float</th>\n",
       "    </tr>\n",
       "  </thead>\n",
       "  <tbody>\n",
       "    <tr>\n",
       "      <th>1362088</th>\n",
       "      <td>1007976</td>\n",
       "      <td>10137</td>\n",
       "      <td>1</td>\n",
       "      <td>2023-12-11 16:42:51.266081</td>\n",
       "    </tr>\n",
       "    <tr>\n",
       "      <th>1362089</th>\n",
       "      <td>104639</td>\n",
       "      <td>10137</td>\n",
       "      <td>2</td>\n",
       "      <td>2023-12-11 16:42:51.266081</td>\n",
       "    </tr>\n",
       "    <tr>\n",
       "      <th>1362090</th>\n",
       "      <td>1048762</td>\n",
       "      <td>10137</td>\n",
       "      <td>1</td>\n",
       "      <td>2023-12-11 16:42:51.266081</td>\n",
       "    </tr>\n",
       "    <tr>\n",
       "      <th>1362091</th>\n",
       "      <td>1054364</td>\n",
       "      <td>10137</td>\n",
       "      <td>1</td>\n",
       "      <td>2023-12-11 16:42:51.266081</td>\n",
       "    </tr>\n",
       "    <tr>\n",
       "      <th>1362092</th>\n",
       "      <td>1054396</td>\n",
       "      <td>10137</td>\n",
       "      <td>1</td>\n",
       "      <td>2023-12-11 16:42:51.266081</td>\n",
       "    </tr>\n",
       "    <tr>\n",
       "      <th>...</th>\n",
       "      <td>...</td>\n",
       "      <td>...</td>\n",
       "      <td>...</td>\n",
       "      <td>...</td>\n",
       "    </tr>\n",
       "    <tr>\n",
       "      <th>1364765</th>\n",
       "      <td>993822</td>\n",
       "      <td>10137</td>\n",
       "      <td>3</td>\n",
       "      <td>2023-12-11 16:42:51.266081</td>\n",
       "    </tr>\n",
       "    <tr>\n",
       "      <th>1364766</th>\n",
       "      <td>993828</td>\n",
       "      <td>10137</td>\n",
       "      <td>3</td>\n",
       "      <td>2023-12-11 16:42:51.266081</td>\n",
       "    </tr>\n",
       "    <tr>\n",
       "      <th>1364767</th>\n",
       "      <td>993830</td>\n",
       "      <td>10137</td>\n",
       "      <td>1</td>\n",
       "      <td>2023-12-11 16:42:51.266081</td>\n",
       "    </tr>\n",
       "    <tr>\n",
       "      <th>1364768</th>\n",
       "      <td>993844</td>\n",
       "      <td>10137</td>\n",
       "      <td>3</td>\n",
       "      <td>2023-12-11 16:42:51.266081</td>\n",
       "    </tr>\n",
       "    <tr>\n",
       "      <th>1364769</th>\n",
       "      <td>993885</td>\n",
       "      <td>10137</td>\n",
       "      <td>1</td>\n",
       "      <td>2023-12-11 16:42:51.266081</td>\n",
       "    </tr>\n",
       "  </tbody>\n",
       "</table>\n",
       "<p>2682 rows × 4 columns</p>\n",
       "</div>"
      ],
      "text/plain": [
       "         user_id:token  item_id:token  rating:float            timestamp:float\n",
       "1362088        1007976          10137             1 2023-12-11 16:42:51.266081\n",
       "1362089         104639          10137             2 2023-12-11 16:42:51.266081\n",
       "1362090        1048762          10137             1 2023-12-11 16:42:51.266081\n",
       "1362091        1054364          10137             1 2023-12-11 16:42:51.266081\n",
       "1362092        1054396          10137             1 2023-12-11 16:42:51.266081\n",
       "...                ...            ...           ...                        ...\n",
       "1364765         993822          10137             3 2023-12-11 16:42:51.266081\n",
       "1364766         993828          10137             3 2023-12-11 16:42:51.266081\n",
       "1364767         993830          10137             1 2023-12-11 16:42:51.266081\n",
       "1364768         993844          10137             3 2023-12-11 16:42:51.266081\n",
       "1364769         993885          10137             1 2023-12-11 16:42:51.266081\n",
       "\n",
       "[2682 rows x 4 columns]"
      ]
     },
     "execution_count": 13,
     "metadata": {},
     "output_type": "execute_result"
    }
   ],
   "source": [
    "test_df = df[df['item_id:token'] == 10137]\n",
    "test_df"
   ]
  },
  {
   "cell_type": "code",
   "execution_count": 14,
   "metadata": {},
   "outputs": [
    {
     "data": {
      "text/plain": [
       "3720147"
      ]
     },
     "execution_count": 14,
     "metadata": {},
     "output_type": "execute_result"
    }
   ],
   "source": [
    "len(df)"
   ]
  },
  {
   "cell_type": "code",
   "execution_count": 15,
   "metadata": {},
   "outputs": [],
   "source": [
    "df.to_csv('output.inter', index=False, sep='\\t', mode='w')"
   ]
  },
  {
   "cell_type": "markdown",
   "metadata": {},
   "source": [
    "# Break"
   ]
  },
  {
   "cell_type": "code",
   "execution_count": 7,
   "metadata": {},
   "outputs": [
    {
     "data": {
      "text/html": [
       "<div>\n",
       "<style scoped>\n",
       "    .dataframe tbody tr th:only-of-type {\n",
       "        vertical-align: middle;\n",
       "    }\n",
       "\n",
       "    .dataframe tbody tr th {\n",
       "        vertical-align: top;\n",
       "    }\n",
       "\n",
       "    .dataframe thead th {\n",
       "        text-align: right;\n",
       "    }\n",
       "</style>\n",
       "<table border=\"1\" class=\"dataframe\">\n",
       "  <thead>\n",
       "    <tr style=\"text-align: right;\">\n",
       "      <th></th>\n",
       "      <th>prod_id</th>\n",
       "      <th>ship_to_id_emos</th>\n",
       "      <th>final_rating_e</th>\n",
       "      <th>prod_name</th>\n",
       "    </tr>\n",
       "  </thead>\n",
       "  <tbody>\n",
       "    <tr>\n",
       "      <th>0</th>\n",
       "      <td>10137</td>\n",
       "      <td>4089037</td>\n",
       "      <td>1</td>\n",
       "      <td>F. SEASON MDCT</td>\n",
       "    </tr>\n",
       "    <tr>\n",
       "      <th>1</th>\n",
       "      <td>10137</td>\n",
       "      <td>4374491</td>\n",
       "      <td>1</td>\n",
       "      <td>F. SEASON MDCT</td>\n",
       "    </tr>\n",
       "    <tr>\n",
       "      <th>2</th>\n",
       "      <td>10137</td>\n",
       "      <td>1839333</td>\n",
       "      <td>1</td>\n",
       "      <td>F. SEASON MDCT</td>\n",
       "    </tr>\n",
       "    <tr>\n",
       "      <th>3</th>\n",
       "      <td>10137</td>\n",
       "      <td>1759124</td>\n",
       "      <td>1</td>\n",
       "      <td>F. SEASON MDCT</td>\n",
       "    </tr>\n",
       "    <tr>\n",
       "      <th>4</th>\n",
       "      <td>10137</td>\n",
       "      <td>4236989</td>\n",
       "      <td>1</td>\n",
       "      <td>F. SEASON MDCT</td>\n",
       "    </tr>\n",
       "  </tbody>\n",
       "</table>\n",
       "</div>"
      ],
      "text/plain": [
       "   prod_id  ship_to_id_emos  final_rating_e       prod_name\n",
       "0    10137          4089037               1  F. SEASON MDCT\n",
       "1    10137          4374491               1  F. SEASON MDCT\n",
       "2    10137          1839333               1  F. SEASON MDCT\n",
       "3    10137          1759124               1  F. SEASON MDCT\n",
       "4    10137          4236989               1  F. SEASON MDCT"
      ]
     },
     "execution_count": 7,
     "metadata": {},
     "output_type": "execute_result"
    }
   ],
   "source": [
    "df = pd.read_csv(\"data/rating_recommendation_CF_new.csv\")\n",
    "df.head()"
   ]
  },
  {
   "cell_type": "code",
   "execution_count": 8,
   "metadata": {},
   "outputs": [],
   "source": [
    "unique_ids = df.groupby('prod_id')['prod_name'].unique()\n",
    "\n",
    "# Convert the Series back to a DataFrame\n",
    "unique_df = unique_ids.reset_index()\n",
    "unique_df['Unique_Products'] = unique_df['prod_name'].apply(lambda x: ', '.join(x))\n",
    "unique_df = unique_df.drop(columns=['prod_name'])\n",
    "\n",
    "\n",
    "unique_df.columns = ['prod_id:token', 'prod_name:token']"
   ]
  },
  {
   "cell_type": "code",
   "execution_count": 9,
   "metadata": {},
   "outputs": [
    {
     "data": {
      "text/html": [
       "<div>\n",
       "<style scoped>\n",
       "    .dataframe tbody tr th:only-of-type {\n",
       "        vertical-align: middle;\n",
       "    }\n",
       "\n",
       "    .dataframe tbody tr th {\n",
       "        vertical-align: top;\n",
       "    }\n",
       "\n",
       "    .dataframe thead th {\n",
       "        text-align: right;\n",
       "    }\n",
       "</style>\n",
       "<table border=\"1\" class=\"dataframe\">\n",
       "  <thead>\n",
       "    <tr style=\"text-align: right;\">\n",
       "      <th></th>\n",
       "      <th>prod_id:token</th>\n",
       "      <th>prod_name:token</th>\n",
       "    </tr>\n",
       "  </thead>\n",
       "  <tbody>\n",
       "    <tr>\n",
       "      <th>0</th>\n",
       "      <td>10137</td>\n",
       "      <td>F. SEASON MDCT</td>\n",
       "    </tr>\n",
       "    <tr>\n",
       "      <th>1</th>\n",
       "      <td>10138</td>\n",
       "      <td>NFDEO RO BRIGH</td>\n",
       "    </tr>\n",
       "    <tr>\n",
       "      <th>2</th>\n",
       "      <td>10139</td>\n",
       "      <td>GLISODIN 30 KA</td>\n",
       "    </tr>\n",
       "    <tr>\n",
       "      <th>3</th>\n",
       "      <td>10140</td>\n",
       "      <td>ENTRAMIX COKLA</td>\n",
       "    </tr>\n",
       "    <tr>\n",
       "      <th>4</th>\n",
       "      <td>10141</td>\n",
       "      <td>DANCOW 1+ Madu</td>\n",
       "    </tr>\n",
       "  </tbody>\n",
       "</table>\n",
       "</div>"
      ],
      "text/plain": [
       "   prod_id:token prod_name:token\n",
       "0          10137  F. SEASON MDCT\n",
       "1          10138  NFDEO RO BRIGH\n",
       "2          10139  GLISODIN 30 KA\n",
       "3          10140  ENTRAMIX COKLA\n",
       "4          10141  DANCOW 1+ Madu"
      ]
     },
     "execution_count": 9,
     "metadata": {},
     "output_type": "execute_result"
    }
   ],
   "source": [
    "unique_df.head()"
   ]
  },
  {
   "cell_type": "code",
   "execution_count": 10,
   "metadata": {},
   "outputs": [],
   "source": [
    "with open('emos.item', 'w') as f:\n",
    "    f.write(unique_df.to_string(index=False))"
   ]
  },
  {
   "cell_type": "code",
   "execution_count": 35,
   "metadata": {},
   "outputs": [
    {
     "data": {
      "text/plain": [
       "array([4089037, 4374491, 1839333, ..., 2267399,  560804, 4220865])"
      ]
     },
     "execution_count": 35,
     "metadata": {},
     "output_type": "execute_result"
    }
   ],
   "source": [
    "df['ship_to_id_emos'].unique()"
   ]
  },
  {
   "cell_type": "code",
   "execution_count": null,
   "metadata": {},
   "outputs": [],
   "source": []
  },
  {
   "cell_type": "code",
   "execution_count": null,
   "metadata": {},
   "outputs": [],
   "source": []
  },
  {
   "cell_type": "code",
   "execution_count": null,
   "metadata": {},
   "outputs": [],
   "source": []
  },
  {
   "cell_type": "code",
   "execution_count": 4,
   "metadata": {},
   "outputs": [
    {
     "data": {
      "text/plain": [
       "123205"
      ]
     },
     "execution_count": 4,
     "metadata": {},
     "output_type": "execute_result"
    }
   ],
   "source": [
    "len(df)"
   ]
  },
  {
   "cell_type": "code",
   "execution_count": 3,
   "metadata": {},
   "outputs": [
    {
     "data": {
      "text/plain": [
       "Index(['barcode', 'prod_code', 'prod_name', 'kodesubdist', 'uom',\n",
       "       'class_product', 'kode_prin', 'composition', 'package', 'kode_brand',\n",
       "       'efficacy', 'category_product', 'idproduct', 'classification_product',\n",
       "       'name_prin', 'name_brand'],\n",
       "      dtype='object')"
      ]
     },
     "execution_count": 3,
     "metadata": {},
     "output_type": "execute_result"
    }
   ],
   "source": [
    "df.columns"
   ]
  },
  {
   "cell_type": "code",
   "execution_count": 19,
   "metadata": {},
   "outputs": [],
   "source": [
    "count = df['classification_product'].str.contains('-').sum()"
   ]
  },
  {
   "cell_type": "code",
   "execution_count": 20,
   "metadata": {},
   "outputs": [
    {
     "data": {
      "text/plain": [
       "91"
      ]
     },
     "execution_count": 20,
     "metadata": {},
     "output_type": "execute_result"
    }
   ],
   "source": [
    "count"
   ]
  },
  {
   "cell_type": "code",
   "execution_count": 2,
   "metadata": {},
   "outputs": [
    {
     "data": {
      "text/html": [
       "<div>\n",
       "<style scoped>\n",
       "    .dataframe tbody tr th:only-of-type {\n",
       "        vertical-align: middle;\n",
       "    }\n",
       "\n",
       "    .dataframe tbody tr th {\n",
       "        vertical-align: top;\n",
       "    }\n",
       "\n",
       "    .dataframe thead th {\n",
       "        text-align: right;\n",
       "    }\n",
       "</style>\n",
       "<table border=\"1\" class=\"dataframe\">\n",
       "  <thead>\n",
       "    <tr style=\"text-align: right;\">\n",
       "      <th></th>\n",
       "      <th>userId</th>\n",
       "      <th>movie</th>\n",
       "      <th>rating</th>\n",
       "    </tr>\n",
       "  </thead>\n",
       "  <tbody>\n",
       "    <tr>\n",
       "      <th>0</th>\n",
       "      <td>1</td>\n",
       "      <td>One Flew Over the Cuckoo's Nest (1975)</td>\n",
       "      <td>5</td>\n",
       "    </tr>\n",
       "    <tr>\n",
       "      <th>1</th>\n",
       "      <td>1</td>\n",
       "      <td>James and the Giant Peach (1996)</td>\n",
       "      <td>3</td>\n",
       "    </tr>\n",
       "    <tr>\n",
       "      <th>2</th>\n",
       "      <td>1</td>\n",
       "      <td>My Fair Lady (1964)</td>\n",
       "      <td>3</td>\n",
       "    </tr>\n",
       "    <tr>\n",
       "      <th>3</th>\n",
       "      <td>1</td>\n",
       "      <td>Erin Brockovich (2000)</td>\n",
       "      <td>4</td>\n",
       "    </tr>\n",
       "    <tr>\n",
       "      <th>4</th>\n",
       "      <td>1</td>\n",
       "      <td>Bug's Life, A (1998)</td>\n",
       "      <td>5</td>\n",
       "    </tr>\n",
       "  </tbody>\n",
       "</table>\n",
       "</div>"
      ],
      "text/plain": [
       "   userId                                   movie  rating\n",
       "0       1  One Flew Over the Cuckoo's Nest (1975)       5\n",
       "1       1        James and the Giant Peach (1996)       3\n",
       "2       1                     My Fair Lady (1964)       3\n",
       "3       1                  Erin Brockovich (2000)       4\n",
       "4       1                    Bug's Life, A (1998)       5"
      ]
     },
     "execution_count": 2,
     "metadata": {},
     "output_type": "execute_result"
    }
   ],
   "source": [
    "df = pd.read_csv(\"data/collaborative_filtering.csv\")\n",
    "df.head()"
   ]
  },
  {
   "cell_type": "code",
   "execution_count": null,
   "metadata": {},
   "outputs": [],
   "source": []
  }
 ],
 "metadata": {
  "kernelspec": {
   "display_name": ".env-recsys",
   "language": "python",
   "name": "python3"
  },
  "language_info": {
   "codemirror_mode": {
    "name": "ipython",
    "version": 3
   },
   "file_extension": ".py",
   "mimetype": "text/x-python",
   "name": "python",
   "nbconvert_exporter": "python",
   "pygments_lexer": "ipython3",
   "version": "3.10.6"
  },
  "orig_nbformat": 4
 },
 "nbformat": 4,
 "nbformat_minor": 2
}
